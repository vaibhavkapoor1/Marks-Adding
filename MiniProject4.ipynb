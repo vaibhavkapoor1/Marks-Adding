{
  "nbformat": 4,
  "nbformat_minor": 0,
  "metadata": {
    "colab": {
      "provenance": [],
      "authorship_tag": "ABX9TyNitgVIw98AxBbc0Q9/9y2V",
      "include_colab_link": true
    },
    "kernelspec": {
      "name": "python3",
      "display_name": "Python 3"
    },
    "language_info": {
      "name": "python"
    }
  },
  "cells": [
    {
      "cell_type": "markdown",
      "metadata": {
        "id": "view-in-github",
        "colab_type": "text"
      },
      "source": [
        "<a href=\"https://colab.research.google.com/github/vaibhavkapoor1/Marks-Adding/blob/main/MiniProject4.ipynb\" target=\"_parent\"><img src=\"https://colab.research.google.com/assets/colab-badge.svg\" alt=\"Open In Colab\"/></a>"
      ]
    },
    {
      "cell_type": "code",
      "source": [
        "import pandas as pd"
      ],
      "metadata": {
        "id": "vs_Fncxj9wg8"
      },
      "execution_count": 53,
      "outputs": []
    },
    {
      "cell_type": "code",
      "execution_count": 54,
      "metadata": {
        "id": "ZksEzahJyYWj"
      },
      "outputs": [],
      "source": [
        "data=pd.read_csv('Marks Adding.csv')"
      ]
    },
    {
      "cell_type": "code",
      "source": [
        "roll_numbers = data['Roll Num'].unique()\n",
        "sum_marks = []\n",
        "\n",
        "for roll_number in roll_numbers:\n",
        "    total_marks = data[data['Roll Num'] == roll_number]['Marks'].sum()\n",
        "    sum_marks.append({'Roll Num': roll_number, 'total marks': total_marks})\n",
        "\n",
        "sum_marks_df = pd.DataFrame(sum_marks)\n",
        "\n"
      ],
      "metadata": {
        "id": "E8jOPmE93O5W"
      },
      "execution_count": 55,
      "outputs": []
    },
    {
      "cell_type": "code",
      "source": [
        "sum_marks_df.to_csv('Final_marks.csv', index=False)\n"
      ],
      "metadata": {
        "id": "tOvLjF_oGft9"
      },
      "execution_count": 56,
      "outputs": []
    },
    {
      "cell_type": "code",
      "source": [],
      "metadata": {
        "id": "l_fcl1EvGxDh"
      },
      "execution_count": null,
      "outputs": []
    }
  ]
}